{
 "cells": [
  {
   "cell_type": "code",
   "execution_count": 4,
   "metadata": {},
   "outputs": [
    {
     "data": {
      "text/plain": [
       "'2.2.2'"
      ]
     },
     "execution_count": 4,
     "metadata": {},
     "output_type": "execute_result"
    }
   ],
   "source": [
    "import plotly\n",
    "plotly.__version__\n"
   ]
  },
  {
   "cell_type": "code",
   "execution_count": 12,
   "metadata": {},
   "outputs": [
    {
     "name": "stdout",
     "output_type": "stream",
     "text": [
      "[[[  4.375   4.75    4.75  ...,   0.      0.      0.   ]\n",
      "  [  1.75    7.625   2.875 ...,   0.      0.      0.   ]\n",
      "  [  4.5     7.25    3.875 ...,   0.      0.      0.   ]\n",
      "  ..., \n",
      "  [  4.25    7.      4.    ...,   1.5     1.5     1.625]\n",
      "  [  4.5     2.625   4.875 ...,   1.125   4.125   3.75 ]\n",
      "  [  3.875   3.625   4.125 ...,   2.625   5.5     3.25 ]]\n",
      "\n",
      " [[  4.875   5.5     5.875 ...,   0.      0.      0.   ]\n",
      "  [  2.375   3.5     4.625 ...,   0.      0.      0.   ]\n",
      "  [  8.625   2.375   5.    ...,   0.      0.      0.   ]\n",
      "  ..., \n",
      "  [  3.25    4.625   3.625 ...,   1.625   2.375   3.375]\n",
      "  [  4.25    4.375   5.625 ...,   1.375   4.5     2.25 ]\n",
      "  [  5.125   1.5     4.    ...,   1.625   5.125   3.875]]\n",
      "\n",
      " [[  4.125   5.375   5.375 ...,   0.      0.      0.   ]\n",
      "  [  3.375   5.      3.125 ...,   0.      0.      0.   ]\n",
      "  [  6.25    1.125   4.75  ...,   0.      0.      0.   ]\n",
      "  ..., \n",
      "  [  1.375   2.375   4.875 ...,   4.25    6.5     5.125]\n",
      "  [  5.      4.875   6.    ...,   3.25    3.5     0.875]\n",
      "  [  4.75    1.      2.    ...,   3.375   3.875   2.375]]\n",
      "\n",
      " ..., \n",
      " [[  6.375   5.875   4.625 ...,   4.125   5.25    8.25 ]\n",
      "  [  3.875   2.75    1.25  ...,   6.75    7.75    7.   ]\n",
      "  [  8.375   2.      7.375 ...,   3.5     6.5     7.625]\n",
      "  ..., \n",
      "  [  2.625   4.75    2.875 ...,   3.125   5.75    1.125]\n",
      "  [  1.      5.625   2.    ...,   3.5     3.75    2.25 ]\n",
      "  [  4.75    5.25    5.375 ...,   4.      4.875   1.   ]]\n",
      "\n",
      " [[  7.125   3.125   4.125 ...,   5.375   3.75    8.875]\n",
      "  [  2.125   2.875   3.375 ...,   4.75    8.625   5.25 ]\n",
      "  [  8.25    3.5     4.625 ...,   4.75    9.875   7.375]\n",
      "  ..., \n",
      "  [  2.25    3.625   1.125 ...,   3.625   6.375   1.375]\n",
      "  [  2.375   5.      3.    ...,   2.625   4.125   4.375]\n",
      "  [  1.625   6.      1.375 ...,   3.25    3.25    4.625]]\n",
      "\n",
      " [[  4.5     3.5     7.625 ...,   5.      4.      4.125]\n",
      "  [  4.375   2.625   1.5   ...,   7.375   9.375   2.   ]\n",
      "  [  4.      7.75    4.5   ...,   8.75    9.625  10.   ]\n",
      "  ..., \n",
      "  [  6.75    5.75    4.875 ...,   3.875   7.125   3.75 ]\n",
      "  [  3.875   8.125   4.125 ...,   5.      3.      6.875]\n",
      "  [  1.5     2.375   2.375 ...,   1.5     1.5     6.625]]]\n",
      "189\n",
      "157\n"
     ]
    }
   ],
   "source": [
    "import plotly.plotly as py\n",
    "from plotly.grid_objs import Grid, Column\n",
    "\n",
    "import time\n",
    "import numpy as np\n",
    "\n",
    "from skimage import io\n",
    "\n",
    "vol = io.imread(\"https://s3.amazonaws.com/assets.datacamp.com/blog_assets/attention-mri.tif\")\n",
    "print(vol)\n",
    "volume = vol.T\n",
    "r, c = volume[0].shape\n",
    "print(r)\n",
    "print(c)"
   ]
  },
  {
   "cell_type": "code",
   "execution_count": 7,
   "metadata": {
    "collapsed": true
   },
   "outputs": [],
   "source": [
    "pl_bone = [\n",
    "    [0.0, 'rgb(0, 0, 0)'],\n",
    "    [0.05, 'rgb(10, 10, 14)'],\n",
    "    [0.1, 'rgb(21, 21, 30)'],\n",
    "    [0.15, 'rgb(33, 33, 46)'],\n",
    "    [0.2, 'rgb(44, 44, 62)'],\n",
    "    [0.25, 'rgb(56, 55, 77)'],\n",
    "    [0.3, 'rgb(66, 66, 92)'],\n",
    "    [0.35, 'rgb(77, 77, 108)'],\n",
    "    [0.4, 'rgb(89, 92, 121)'],\n",
    "    [0.45, 'rgb(100, 107, 132)'],\n",
    "    [0.5, 'rgb(112, 123, 143)'],\n",
    "    [0.55, 'rgb(122, 137, 154)'],\n",
    "    [0.6, 'rgb(133, 153, 165)'],\n",
    "    [0.65, 'rgb(145, 169, 177)'],\n",
    "    [0.7, 'rgb(156, 184, 188)'],\n",
    "    [0.75, 'rgb(168, 199, 199)'],\n",
    "    [0.8, 'rgb(185, 210, 210)'],\n",
    "    [0.85, 'rgb(203, 221, 221)'],\n",
    "    [0.9, 'rgb(220, 233, 233)'],\n",
    "    [0.95, 'rgb(238, 244, 244)'],\n",
    "    [1.0, 'rgb(255, 255, 255)']\n",
    "]"
   ]
  },
  {
   "cell_type": "code",
   "execution_count": 8,
   "metadata": {},
   "outputs": [
    {
     "ename": "PlotlyRequestError",
     "evalue": "Authentication credentials were not provided.",
     "output_type": "error",
     "traceback": [
      "\u001b[0;31m---------------------------------------------------------------------------\u001b[0m",
      "\u001b[0;31mPlotlyRequestError\u001b[0m                        Traceback (most recent call last)",
      "\u001b[0;32m<ipython-input-8-e6cb4f8eba41>\u001b[0m in \u001b[0;36m<module>\u001b[0;34m()\u001b[0m\n\u001b[1;32m      7\u001b[0m     )\n\u001b[1;32m      8\u001b[0m \u001b[0mgrid\u001b[0m \u001b[0;34m=\u001b[0m \u001b[0mGrid\u001b[0m\u001b[0;34m(\u001b[0m\u001b[0mmy_columns\u001b[0m\u001b[0;34m)\u001b[0m\u001b[0;34m\u001b[0m\u001b[0m\n\u001b[0;32m----> 9\u001b[0;31m \u001b[0mpy\u001b[0m\u001b[0;34m.\u001b[0m\u001b[0mgrid_ops\u001b[0m\u001b[0;34m.\u001b[0m\u001b[0mupload\u001b[0m\u001b[0;34m(\u001b[0m\u001b[0mgrid\u001b[0m\u001b[0;34m,\u001b[0m \u001b[0;34m'anim_sliceshead'\u001b[0m\u001b[0;34m+\u001b[0m\u001b[0mstr\u001b[0m\u001b[0;34m(\u001b[0m\u001b[0mtime\u001b[0m\u001b[0;34m.\u001b[0m\u001b[0mtime\u001b[0m\u001b[0;34m(\u001b[0m\u001b[0;34m)\u001b[0m\u001b[0;34m)\u001b[0m\u001b[0;34m,\u001b[0m \u001b[0mauto_open\u001b[0m\u001b[0;34m=\u001b[0m\u001b[0;32mFalse\u001b[0m\u001b[0;34m)\u001b[0m\u001b[0;34m\u001b[0m\u001b[0m\n\u001b[0m",
      "\u001b[0;32m~/anaconda3/lib/python3.6/site-packages/plotly/plotly/plotly.py\u001b[0m in \u001b[0;36mupload\u001b[0;34m(cls, grid, filename, world_readable, auto_open, meta)\u001b[0m\n\u001b[1;32m    999\u001b[0m             \u001b[0mpayload\u001b[0m\u001b[0;34m[\u001b[0m\u001b[0;34m'parent_path'\u001b[0m\u001b[0;34m]\u001b[0m \u001b[0;34m=\u001b[0m \u001b[0mparent_path\u001b[0m\u001b[0;34m\u001b[0m\u001b[0m\n\u001b[1;32m   1000\u001b[0m \u001b[0;34m\u001b[0m\u001b[0m\n\u001b[0;32m-> 1001\u001b[0;31m         \u001b[0mresponse\u001b[0m \u001b[0;34m=\u001b[0m \u001b[0mv2\u001b[0m\u001b[0;34m.\u001b[0m\u001b[0mgrids\u001b[0m\u001b[0;34m.\u001b[0m\u001b[0mcreate\u001b[0m\u001b[0;34m(\u001b[0m\u001b[0mpayload\u001b[0m\u001b[0;34m)\u001b[0m\u001b[0;34m\u001b[0m\u001b[0m\n\u001b[0m\u001b[1;32m   1002\u001b[0m \u001b[0;34m\u001b[0m\u001b[0m\n\u001b[1;32m   1003\u001b[0m         \u001b[0mparsed_content\u001b[0m \u001b[0;34m=\u001b[0m \u001b[0mresponse\u001b[0m\u001b[0;34m.\u001b[0m\u001b[0mjson\u001b[0m\u001b[0;34m(\u001b[0m\u001b[0;34m)\u001b[0m\u001b[0;34m\u001b[0m\u001b[0m\n",
      "\u001b[0;32m~/anaconda3/lib/python3.6/site-packages/plotly/api/v2/grids.py\u001b[0m in \u001b[0;36mcreate\u001b[0;34m(body)\u001b[0m\n\u001b[1;32m     16\u001b[0m     \"\"\"\n\u001b[1;32m     17\u001b[0m     \u001b[0murl\u001b[0m \u001b[0;34m=\u001b[0m \u001b[0mbuild_url\u001b[0m\u001b[0;34m(\u001b[0m\u001b[0mRESOURCE\u001b[0m\u001b[0;34m)\u001b[0m\u001b[0;34m\u001b[0m\u001b[0m\n\u001b[0;32m---> 18\u001b[0;31m     \u001b[0;32mreturn\u001b[0m \u001b[0mrequest\u001b[0m\u001b[0;34m(\u001b[0m\u001b[0;34m'post'\u001b[0m\u001b[0;34m,\u001b[0m \u001b[0murl\u001b[0m\u001b[0;34m,\u001b[0m \u001b[0mjson\u001b[0m\u001b[0;34m=\u001b[0m\u001b[0mbody\u001b[0m\u001b[0;34m)\u001b[0m\u001b[0;34m\u001b[0m\u001b[0m\n\u001b[0m\u001b[1;32m     19\u001b[0m \u001b[0;34m\u001b[0m\u001b[0m\n\u001b[1;32m     20\u001b[0m \u001b[0;34m\u001b[0m\u001b[0m\n",
      "\u001b[0;32m~/anaconda3/lib/python3.6/site-packages/plotly/api/v2/utils.py\u001b[0m in \u001b[0;36mrequest\u001b[0;34m(method, url, **kwargs)\u001b[0m\n\u001b[1;32m    151\u001b[0m         \u001b[0mcontent\u001b[0m \u001b[0;34m=\u001b[0m \u001b[0mresponse\u001b[0m\u001b[0;34m.\u001b[0m\u001b[0mcontent\u001b[0m \u001b[0;32mif\u001b[0m \u001b[0mresponse\u001b[0m \u001b[0;32melse\u001b[0m \u001b[0;34m'No content'\u001b[0m\u001b[0;34m\u001b[0m\u001b[0m\n\u001b[1;32m    152\u001b[0m         \u001b[0;32mraise\u001b[0m \u001b[0mexceptions\u001b[0m\u001b[0;34m.\u001b[0m\u001b[0mPlotlyRequestError\u001b[0m\u001b[0;34m(\u001b[0m\u001b[0mmessage\u001b[0m\u001b[0;34m,\u001b[0m \u001b[0mstatus_code\u001b[0m\u001b[0;34m,\u001b[0m \u001b[0mcontent\u001b[0m\u001b[0;34m)\u001b[0m\u001b[0;34m\u001b[0m\u001b[0m\n\u001b[0;32m--> 153\u001b[0;31m     \u001b[0mvalidate_response\u001b[0m\u001b[0;34m(\u001b[0m\u001b[0mresponse\u001b[0m\u001b[0;34m)\u001b[0m\u001b[0;34m\u001b[0m\u001b[0m\n\u001b[0m\u001b[1;32m    154\u001b[0m     \u001b[0;32mreturn\u001b[0m \u001b[0mresponse\u001b[0m\u001b[0;34m\u001b[0m\u001b[0m\n",
      "\u001b[0;32m~/anaconda3/lib/python3.6/site-packages/plotly/api/v2/utils.py\u001b[0m in \u001b[0;36mvalidate_response\u001b[0;34m(response)\u001b[0m\n\u001b[1;32m     77\u001b[0m         \u001b[0mmessage\u001b[0m \u001b[0;34m=\u001b[0m \u001b[0mcontent\u001b[0m \u001b[0;32mif\u001b[0m \u001b[0mcontent\u001b[0m \u001b[0;32melse\u001b[0m \u001b[0;34m'No Content'\u001b[0m\u001b[0;34m\u001b[0m\u001b[0m\n\u001b[1;32m     78\u001b[0m \u001b[0;34m\u001b[0m\u001b[0m\n\u001b[0;32m---> 79\u001b[0;31m     \u001b[0;32mraise\u001b[0m \u001b[0mexceptions\u001b[0m\u001b[0;34m.\u001b[0m\u001b[0mPlotlyRequestError\u001b[0m\u001b[0;34m(\u001b[0m\u001b[0mmessage\u001b[0m\u001b[0;34m,\u001b[0m \u001b[0mstatus_code\u001b[0m\u001b[0;34m,\u001b[0m \u001b[0mcontent\u001b[0m\u001b[0;34m)\u001b[0m\u001b[0;34m\u001b[0m\u001b[0m\n\u001b[0m\u001b[1;32m     80\u001b[0m \u001b[0;34m\u001b[0m\u001b[0m\n\u001b[1;32m     81\u001b[0m \u001b[0;34m\u001b[0m\u001b[0m\n",
      "\u001b[0;31mPlotlyRequestError\u001b[0m: Authentication credentials were not provided."
     ]
    }
   ],
   "source": [
    "my_columns = []\n",
    "nr_frames = 68\n",
    "for k in range(nr_frames):\n",
    "    my_columns.extend(\n",
    "        [Column((6.7 - k * 0.1) * np.ones((r, c)), 'z{}'.format(k + 1)),\n",
    "         Column(np.flipud(volume[67 - k]), 'surfc{}'.format(k + 1))]\n",
    "    )\n",
    "grid = Grid(my_columns)\n",
    "py.grid_ops.upload(grid, 'anim_sliceshead'+str(time.time()), auto_open=False)"
   ]
  },
  {
   "cell_type": "code",
   "execution_count": 9,
   "metadata": {
    "collapsed": true
   },
   "outputs": [],
   "source": [
    "data=[\n",
    "    dict(\n",
    "        type='surface', \n",
    "        zsrc=grid.get_column_reference('z1'),\n",
    "        surfacecolorsrc=grid.get_column_reference('surfc1'),\n",
    "        colorscale=pl_bone,\n",
    "        colorbar=dict(thickness=20, ticklen=4)\n",
    "    )\n",
    "]\n",
    "\n",
    "frames=[]\n",
    "for k in range(nr_frames):\n",
    "    frames.append(\n",
    "        dict(\n",
    "            data=[dict(zsrc=grid.get_column_reference('z{}'.format(k + 1)),\n",
    "                       surfacecolorsrc=grid.get_column_reference('surfc{}'.format(k + 1)))],\n",
    "            name='frame{}'.format(k + 1)\n",
    "        )\n",
    "    )\n",
    "\n",
    "sliders=[\n",
    "    dict(\n",
    "        steps=[dict(method='animate',\n",
    "                    args= [['frame{}'.format(k + 1)],\n",
    "                            dict(mode='immediate',\n",
    "                                 frame= dict(duration=70, redraw= False),\n",
    "                                 transition=dict(duration=0))],\n",
    "                    label='{:d}'.format(k+1)) for k in range(68)], \n",
    "        transition= dict(duration=0),\n",
    "        x=0,\n",
    "        y=0, \n",
    "        currentvalue=dict(font=dict(size=12), \n",
    "                          prefix='slice: ', \n",
    "                          visible=True, \n",
    "                          xanchor='center'\n",
    "                         ),  \n",
    "        len=1.0\n",
    "    )\n",
    "]\n",
    "\n",
    "axis3d = dict(\n",
    "    showbackground=True, \n",
    "    backgroundcolor=\"rgb(230, 230,230)\",\n",
    "    gridcolor=\"rgb(255, 255, 255)\",      \n",
    "    zerolinecolor=\"rgb(255, 255, 255)\",  \n",
    ")\n",
    "\n",
    "layout3d = dict(\n",
    "         title='Slices in volumetric data', \n",
    "         font=dict(family='Balto'),\n",
    "         width=600,\n",
    "         height=600,\n",
    "         scene=dict(xaxis=(axis3d),\n",
    "                    yaxis=(axis3d), \n",
    "                    zaxis=dict(axis3d, **dict(range=[-0.1, 6.8], autorange=False)), \n",
    "                    aspectratio=dict(x=1, y=1, z=1),\n",
    "                    ),\n",
    "         updatemenus=[\n",
    "             dict(type='buttons',\n",
    "                  showactive=False,\n",
    "                  y=1,\n",
    "                  x=1.3,\n",
    "                  xanchor='right',\n",
    "                  yanchor='top',\n",
    "                  pad=dict(t=0, r=10),\n",
    "                  buttons=[dict(label='Play',\n",
    "                                method='animate',\n",
    "                                args=[\n",
    "                                    None, \n",
    "                                    dict(frame=dict(duration=70, redraw=False),\n",
    "                                         transition=dict(duration=0),\n",
    "                                         fromcurrent=True,\n",
    "                                         mode='immediate')\n",
    "                                ])])\n",
    "         ],\n",
    "        sliders=sliders\n",
    ")"
   ]
  },
  {
   "cell_type": "code",
   "execution_count": 10,
   "metadata": {},
   "outputs": [
    {
     "ename": "PlotlyRequestError",
     "evalue": "Authentication credentials were not provided.",
     "output_type": "error",
     "traceback": [
      "\u001b[0;31m---------------------------------------------------------------------------\u001b[0m",
      "\u001b[0;31mPlotlyRequestError\u001b[0m                        Traceback (most recent call last)",
      "\u001b[0;32m<ipython-input-10-146816b8034a>\u001b[0m in \u001b[0;36m<module>\u001b[0;34m()\u001b[0m\n\u001b[1;32m      1\u001b[0m \u001b[0mfig\u001b[0m\u001b[0;34m=\u001b[0m\u001b[0mdict\u001b[0m\u001b[0;34m(\u001b[0m\u001b[0mdata\u001b[0m\u001b[0;34m=\u001b[0m\u001b[0mdata\u001b[0m\u001b[0;34m,\u001b[0m \u001b[0mlayout\u001b[0m\u001b[0;34m=\u001b[0m\u001b[0mlayout3d\u001b[0m\u001b[0;34m,\u001b[0m \u001b[0mframes\u001b[0m\u001b[0;34m=\u001b[0m\u001b[0mframes\u001b[0m\u001b[0;34m)\u001b[0m\u001b[0;34m\u001b[0m\u001b[0m\n\u001b[0;32m----> 2\u001b[0;31m \u001b[0mpy\u001b[0m\u001b[0;34m.\u001b[0m\u001b[0micreate_animations\u001b[0m\u001b[0;34m(\u001b[0m\u001b[0mfig\u001b[0m\u001b[0;34m,\u001b[0m \u001b[0mfilename\u001b[0m\u001b[0;34m=\u001b[0m\u001b[0;34m'animslicesHead'\u001b[0m\u001b[0;34m+\u001b[0m\u001b[0mstr\u001b[0m\u001b[0;34m(\u001b[0m\u001b[0mtime\u001b[0m\u001b[0;34m.\u001b[0m\u001b[0mtime\u001b[0m\u001b[0;34m(\u001b[0m\u001b[0;34m)\u001b[0m\u001b[0;34m)\u001b[0m\u001b[0;34m)\u001b[0m\u001b[0;34m\u001b[0m\u001b[0m\n\u001b[0m",
      "\u001b[0;32m~/anaconda3/lib/python3.6/site-packages/plotly/plotly/plotly.py\u001b[0m in \u001b[0;36micreate_animations\u001b[0;34m(figure, filename, sharing, auto_open)\u001b[0m\n\u001b[1;32m   1818\u001b[0m     \u001b[0mcreate_animations\u001b[0m\u001b[0;31m`\u001b[0m \u001b[0mDoc\u001b[0m \u001b[0mString\u001b[0m \u001b[0;32mfor\u001b[0m \u001b[0mparam\u001b[0m \u001b[0mdescriptions\u001b[0m\u001b[0;34m.\u001b[0m\u001b[0;34m\u001b[0m\u001b[0m\n\u001b[1;32m   1819\u001b[0m     \"\"\"\n\u001b[0;32m-> 1820\u001b[0;31m     \u001b[0murl\u001b[0m \u001b[0;34m=\u001b[0m \u001b[0mcreate_animations\u001b[0m\u001b[0;34m(\u001b[0m\u001b[0mfigure\u001b[0m\u001b[0;34m,\u001b[0m \u001b[0mfilename\u001b[0m\u001b[0;34m,\u001b[0m \u001b[0msharing\u001b[0m\u001b[0;34m,\u001b[0m \u001b[0mauto_open\u001b[0m\u001b[0;34m)\u001b[0m\u001b[0;34m\u001b[0m\u001b[0m\n\u001b[0m\u001b[1;32m   1821\u001b[0m \u001b[0;34m\u001b[0m\u001b[0m\n\u001b[1;32m   1822\u001b[0m     \u001b[0;32mif\u001b[0m \u001b[0misinstance\u001b[0m\u001b[0;34m(\u001b[0m\u001b[0mfigure\u001b[0m\u001b[0;34m,\u001b[0m \u001b[0mdict\u001b[0m\u001b[0;34m)\u001b[0m\u001b[0;34m:\u001b[0m\u001b[0;34m\u001b[0m\u001b[0m\n",
      "\u001b[0;32m~/anaconda3/lib/python3.6/site-packages/plotly/plotly/plotly.py\u001b[0m in \u001b[0;36mcreate_animations\u001b[0;34m(figure, filename, sharing, auto_open)\u001b[0m\n\u001b[1;32m   1796\u001b[0m         )\n\u001b[1;32m   1797\u001b[0m \u001b[0;34m\u001b[0m\u001b[0m\n\u001b[0;32m-> 1798\u001b[0;31m     \u001b[0mresponse\u001b[0m \u001b[0;34m=\u001b[0m \u001b[0mv2\u001b[0m\u001b[0;34m.\u001b[0m\u001b[0mplots\u001b[0m\u001b[0;34m.\u001b[0m\u001b[0mcreate\u001b[0m\u001b[0;34m(\u001b[0m\u001b[0mbody\u001b[0m\u001b[0;34m)\u001b[0m\u001b[0;34m\u001b[0m\u001b[0m\n\u001b[0m\u001b[1;32m   1799\u001b[0m     \u001b[0mparsed_content\u001b[0m \u001b[0;34m=\u001b[0m \u001b[0mresponse\u001b[0m\u001b[0;34m.\u001b[0m\u001b[0mjson\u001b[0m\u001b[0;34m(\u001b[0m\u001b[0;34m)\u001b[0m\u001b[0;34m\u001b[0m\u001b[0m\n\u001b[1;32m   1800\u001b[0m \u001b[0;34m\u001b[0m\u001b[0m\n",
      "\u001b[0;32m~/anaconda3/lib/python3.6/site-packages/plotly/api/v2/plots.py\u001b[0m in \u001b[0;36mcreate\u001b[0;34m(body)\u001b[0m\n\u001b[1;32m     16\u001b[0m     \"\"\"\n\u001b[1;32m     17\u001b[0m     \u001b[0murl\u001b[0m \u001b[0;34m=\u001b[0m \u001b[0mbuild_url\u001b[0m\u001b[0;34m(\u001b[0m\u001b[0mRESOURCE\u001b[0m\u001b[0;34m)\u001b[0m\u001b[0;34m\u001b[0m\u001b[0m\n\u001b[0;32m---> 18\u001b[0;31m     \u001b[0;32mreturn\u001b[0m \u001b[0mrequest\u001b[0m\u001b[0;34m(\u001b[0m\u001b[0;34m'post'\u001b[0m\u001b[0;34m,\u001b[0m \u001b[0murl\u001b[0m\u001b[0;34m,\u001b[0m \u001b[0mjson\u001b[0m\u001b[0;34m=\u001b[0m\u001b[0mbody\u001b[0m\u001b[0;34m)\u001b[0m\u001b[0;34m\u001b[0m\u001b[0m\n\u001b[0m\u001b[1;32m     19\u001b[0m \u001b[0;34m\u001b[0m\u001b[0m\n\u001b[1;32m     20\u001b[0m \u001b[0;34m\u001b[0m\u001b[0m\n",
      "\u001b[0;32m~/anaconda3/lib/python3.6/site-packages/plotly/api/v2/utils.py\u001b[0m in \u001b[0;36mrequest\u001b[0;34m(method, url, **kwargs)\u001b[0m\n\u001b[1;32m    151\u001b[0m         \u001b[0mcontent\u001b[0m \u001b[0;34m=\u001b[0m \u001b[0mresponse\u001b[0m\u001b[0;34m.\u001b[0m\u001b[0mcontent\u001b[0m \u001b[0;32mif\u001b[0m \u001b[0mresponse\u001b[0m \u001b[0;32melse\u001b[0m \u001b[0;34m'No content'\u001b[0m\u001b[0;34m\u001b[0m\u001b[0m\n\u001b[1;32m    152\u001b[0m         \u001b[0;32mraise\u001b[0m \u001b[0mexceptions\u001b[0m\u001b[0;34m.\u001b[0m\u001b[0mPlotlyRequestError\u001b[0m\u001b[0;34m(\u001b[0m\u001b[0mmessage\u001b[0m\u001b[0;34m,\u001b[0m \u001b[0mstatus_code\u001b[0m\u001b[0;34m,\u001b[0m \u001b[0mcontent\u001b[0m\u001b[0;34m)\u001b[0m\u001b[0;34m\u001b[0m\u001b[0m\n\u001b[0;32m--> 153\u001b[0;31m     \u001b[0mvalidate_response\u001b[0m\u001b[0;34m(\u001b[0m\u001b[0mresponse\u001b[0m\u001b[0;34m)\u001b[0m\u001b[0;34m\u001b[0m\u001b[0m\n\u001b[0m\u001b[1;32m    154\u001b[0m     \u001b[0;32mreturn\u001b[0m \u001b[0mresponse\u001b[0m\u001b[0;34m\u001b[0m\u001b[0m\n",
      "\u001b[0;32m~/anaconda3/lib/python3.6/site-packages/plotly/api/v2/utils.py\u001b[0m in \u001b[0;36mvalidate_response\u001b[0;34m(response)\u001b[0m\n\u001b[1;32m     77\u001b[0m         \u001b[0mmessage\u001b[0m \u001b[0;34m=\u001b[0m \u001b[0mcontent\u001b[0m \u001b[0;32mif\u001b[0m \u001b[0mcontent\u001b[0m \u001b[0;32melse\u001b[0m \u001b[0;34m'No Content'\u001b[0m\u001b[0;34m\u001b[0m\u001b[0m\n\u001b[1;32m     78\u001b[0m \u001b[0;34m\u001b[0m\u001b[0m\n\u001b[0;32m---> 79\u001b[0;31m     \u001b[0;32mraise\u001b[0m \u001b[0mexceptions\u001b[0m\u001b[0;34m.\u001b[0m\u001b[0mPlotlyRequestError\u001b[0m\u001b[0;34m(\u001b[0m\u001b[0mmessage\u001b[0m\u001b[0;34m,\u001b[0m \u001b[0mstatus_code\u001b[0m\u001b[0;34m,\u001b[0m \u001b[0mcontent\u001b[0m\u001b[0;34m)\u001b[0m\u001b[0;34m\u001b[0m\u001b[0m\n\u001b[0m\u001b[1;32m     80\u001b[0m \u001b[0;34m\u001b[0m\u001b[0m\n\u001b[1;32m     81\u001b[0m \u001b[0;34m\u001b[0m\u001b[0m\n",
      "\u001b[0;31mPlotlyRequestError\u001b[0m: Authentication credentials were not provided."
     ]
    }
   ],
   "source": [
    "fig=dict(data=data, layout=layout3d, frames=frames)\n",
    "py.icreate_animations(fig, filename='animslicesHead'+str(time.time()))"
   ]
  },
  {
   "cell_type": "code",
   "execution_count": null,
   "metadata": {
    "collapsed": true
   },
   "outputs": [],
   "source": []
  }
 ],
 "metadata": {
  "kernelspec": {
   "display_name": "Python 3",
   "language": "python",
   "name": "python3"
  },
  "language_info": {
   "codemirror_mode": {
    "name": "ipython",
    "version": 3
   },
   "file_extension": ".py",
   "mimetype": "text/x-python",
   "name": "python",
   "nbconvert_exporter": "python",
   "pygments_lexer": "ipython3",
   "version": "3.6.3"
  }
 },
 "nbformat": 4,
 "nbformat_minor": 2
}
